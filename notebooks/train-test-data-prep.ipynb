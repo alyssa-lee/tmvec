{
 "cells": [
  {
   "cell_type": "code",
   "execution_count": 1,
   "metadata": {},
   "outputs": [],
   "source": [
    "import pandas as pd\n",
    "import numpy as np\n",
    "import os\n",
    "\n",
    "from pysam import FastaFile, FastxFile"
   ]
  },
  {
   "cell_type": "markdown",
   "metadata": {},
   "source": [
    "# 1. CATH preprocessing \n",
    "## 1.1. Download\n",
    "- Sequences from the last release of CATH (v4.3.0) were downloaded from the [FTP](ftp://orengoftp.biochem.ucl.ac.uk/cath/releases/latest-release/sequence-data/cath-domain-seqs.fa)"
   ]
  },
  {
   "cell_type": "markdown",
   "metadata": {},
   "source": [
    "# 1.2. Identification of sequences with present TM scores \n",
    "- we load a pairwise structural alignment file in order to identify which sequences are present in our training dataset\n",
    "- we will load a largest dataset with 146M pairwise comparisons"
   ]
  },
  {
   "cell_type": "code",
   "execution_count": 2,
   "metadata": {},
   "outputs": [],
   "source": [
    "# largest_file = \"/nfs/cds-peta/exports/biol_micro_cds_gr_sunagawa/scratch/vbezshapkin/tm-vec/tmvec_data/flatiron/pairs_with_max_146M.csv.gz\"\n",
    "# df = pd.read_csv(largest_file, compression='gzip', usecols=[\"chain_1\", \"chain_2\"])\n",
    "# # collapse columns and identify unique entries\n",
    "# chains = pd.concat([df[\"chain_1\"], df[\"chain_2\"]], axis=0).unique()"
   ]
  },
  {
   "cell_type": "markdown",
   "metadata": {},
   "source": [
    "Checking N of unique proteins..."
   ]
  },
  {
   "cell_type": "code",
   "execution_count": 3,
   "metadata": {},
   "outputs": [],
   "source": [
    "# chains.shape"
   ]
  },
  {
   "cell_type": "markdown",
   "metadata": {},
   "source": [
    "**Idea**: ask Martin Steinegger for AFDB entries"
   ]
  },
  {
   "cell_type": "markdown",
   "metadata": {},
   "source": [
    "## 1.3. Extracting sequences into separate file for MMSeqs2 runs"
   ]
  },
  {
   "cell_type": "code",
   "execution_count": 4,
   "metadata": {},
   "outputs": [],
   "source": [
    "# cath_db = FastxFile(\"/nfs/cds-peta/exports/biol_micro_cds_gr_sunagawa/scratch/vbezshapkin/tm-vec/tmvec_data/flatiron/cath-domain-seqs.fa\")\n",
    "# output_file = \"/nfs/cds-peta/exports/biol_micro_cds_gr_sunagawa/scratch/vbezshapkin/tm-vec/tmvec_data/flatiron/pairs_with_max_146M.fa\"\n",
    "# # load sequences into dict and adjust identifiers\n",
    "# seq_dict = {entry.name.split(\"|\")[-1].split(\"/\")[0] : entry.sequence for entry in cath_db}\n",
    "# with open(output_file, \"w\") as f:\n",
    "#     for chain in chains:\n",
    "#         f.write(f\">{chain}\\n{seq_dict[chain]}\\n\")"
   ]
  },
  {
   "cell_type": "markdown",
   "metadata": {},
   "source": [
    "# 2. ProteinNet sequence extraction \n",
    "ProteinNET CASP 12 was downloaded from [Github repository](https://github.com/aqlaboratory/proteinnet)\n",
    "- training set with different subsampling to emulate data scarse training mode (30%, 50%, 70%, 90%, 95%, 100%)\n",
    "- validation \n",
    "- testing dataset\n",
    "\n",
    "The first number in the ID of the validation FASTA reflects identity to a training data set. \n",
    "\n",
    "| ID% | N    |\n",
    "|-----|------|\n",
    "| 10  | 56 |\n",
    "| 20  | 52 |\n",
    "| 30  | 137 |\n",
    "| 40  | 295 |\n",
    "| 50  | 210 |\n",
    "| 70  | 299 |\n",
    "| 90  | 271 |"
   ]
  },
  {
   "cell_type": "code",
   "execution_count": 5,
   "metadata": {},
   "outputs": [],
   "source": [
    "# proteinnet_dir = \"/nfs/cds-peta/exports/biol_micro_cds_gr_sunagawa/scratch/vbezshapkin/tm-vec/tmvec_data/proteinnet/casp12\"\n",
    "# files = sorted(os.listdir(proteinnet_dir))"
   ]
  },
  {
   "cell_type": "code",
   "execution_count": 6,
   "metadata": {},
   "outputs": [],
   "source": [
    "# for file in files:\n",
    "#     filepath = os.path.join(proteinnet_dir, file)\n",
    "#     output_file = filepath + \".fa\"\n",
    "#     with open(filepath, 'r') as f, open(output_file, 'w') as out:\n",
    "#         for i, line in enumerate(f):\n",
    "#             if \"ID\" in line:\n",
    "#                 # grab next line\n",
    "#                 idx = next(f).strip()\n",
    "#                 # grab sequence two lines lower\n",
    "#                 next(f)\n",
    "#                 seq = next(f).strip()\n",
    "#                 out.write(f\">{idx}\\n{seq}\\n\")"
   ]
  },
  {
   "cell_type": "markdown",
   "metadata": {},
   "source": [
    "# 3. Recreating a ProteinNET split within pairs dataset \n",
    "\n",
    "In order to recreate train-validation-test split in our database we have to find hits to our pairwise db. Since databases aren't that large (100k nad 31k sequences) we can run search at full sensitivity - 7.5.  \n",
    "Thus we will run 3 MMSeqs searches: \n",
    "- pairwise - training100\n",
    "- pairwise - validation\n",
    "- pairwise - test\n",
    "\n",
    "If at least one sequence is found in the training set, the whole pair is moved to a training set.  \n",
    "If at least one test sequence belongs to a validation set, the whole pair is move to a validation set. "
   ]
  },
  {
   "cell_type": "markdown",
   "metadata": {},
   "source": [
    "## 3.1. Training dataset"
   ]
  },
  {
   "cell_type": "code",
   "execution_count": 73,
   "metadata": {},
   "outputs": [],
   "source": [
    "# !conda run -n deepfri \\\n",
    "#     mmseqs easy-search --max-seqs 60000 -s 7.5 --threads 16 --format-mode 4 --format-output query,target,fident,alnlen,mismatch,gapopen,qcov,tcov,evalue,bits\\\n",
    "#     /nfs/cds-peta/exports/biol_micro_cds_gr_sunagawa/scratch/vbezshapkin/tm-vec/tmvec_data/proteinnet/casp12/training_100.fa \\\n",
    "#     /nfs/cds-peta/exports/biol_micro_cds_gr_sunagawa/scratch/vbezshapkin/tm-vec/tmvec_data/flatiron/pairs_with_max_146M.fa \\\n",
    "#     training_vs_pairs.tsv \\\n",
    "#     tmp"
   ]
  },
  {
   "cell_type": "code",
   "execution_count": 8,
   "metadata": {},
   "outputs": [],
   "source": [
    "result = pd.read_csv(\"training_vs_pairs.tsv\", sep=\"\\t\")"
   ]
  },
  {
   "cell_type": "code",
   "execution_count": 9,
   "metadata": {},
   "outputs": [],
   "source": [
    "# order by e-value and select top hits\n",
    "result = result.sort_values(\"evalue\").groupby(\"target\").head(1)"
   ]
  },
  {
   "cell_type": "code",
   "execution_count": 17,
   "metadata": {},
   "outputs": [
    {
     "data": {
      "text/plain": [
       "(0.9, 1.0)"
      ]
     },
     "execution_count": 17,
     "metadata": {},
     "output_type": "execute_result"
    },
    {
     "data": {
      "image/png": "[encoded data removed]",
      "text/plain": [
       "<Figure size 640x480 with 1 Axes>"
      ]
     },
     "metadata": {},
     "output_type": "display_data"
    }
   ],
   "source": [
    "ax = result.query(\"qcov >= 0.9 and tcov >= 0.9\").plot(kind=\"hist\", y=\"fident\", bins=300)\n",
    "ax.set_xlim(0.9, 1)"
   ]
  },
  {
   "cell_type": "markdown",
   "metadata": {},
   "source": [
    "94% identity looks like a reasonable cut-off to retrieve all hits"
   ]
  },
  {
   "cell_type": "code",
   "execution_count": 18,
   "metadata": {},
   "outputs": [],
   "source": [
    "train_seqs = result.query(\"qcov >= 0.9 and tcov >= 0.9 and fident >= 0.94\").target.unique()"
   ]
  },
  {
   "cell_type": "markdown",
   "metadata": {},
   "source": [
    "## 3.2. Validation dataset"
   ]
  },
  {
   "cell_type": "code",
   "execution_count": 19,
   "metadata": {},
   "outputs": [],
   "source": [
    "# !conda run -n deepfri \\\n",
    "#     mmseqs easy-search --max-seqs 60000 -s 7.5 --threads 16 --format-mode 4 --format-output query,target,fident,alnlen,mismatch,gapopen,qcov,tcov,evalue,bits\\\n",
    "#     /nfs/cds-peta/exports/biol_micro_cds_gr_sunagawa/scratch/vbezshapkin/tm-vec/tmvec_data/proteinnet/casp12/validation.fa \\\n",
    "#     /nfs/cds-peta/exports/biol_micro_cds_gr_sunagawa/scratch/vbezshapkin/tm-vec/tmvec_data/flatiron/pairs_with_max_146M.fa \\\n",
    "#     validation_vs_pairs.tsv \\\n",
    "#     tmp"
   ]
  },
  {
   "cell_type": "code",
   "execution_count": 20,
   "metadata": {},
   "outputs": [],
   "source": [
    "val_df = pd.read_csv(\"validation_vs_pairs.tsv\", sep=\"\\t\")"
   ]
  },
  {
   "cell_type": "code",
   "execution_count": 21,
   "metadata": {},
   "outputs": [],
   "source": [
    "# order by e-value and select top hits\n",
    "val_df = val_df.sort_values(\"evalue\").groupby(\"target\").head(1)"
   ]
  },
  {
   "cell_type": "code",
   "execution_count": 24,
   "metadata": {},
   "outputs": [],
   "source": [
    "val_df[\"group\"] = val_df[\"query\"].apply(lambda x: int(x.split(\"#\")[0]))"
   ]
  },
  {
   "cell_type": "code",
   "execution_count": 41,
   "metadata": {},
   "outputs": [],
   "source": [
    "val_dict = val_df.query(\"qcov >= 0.9 and tcov >= 0.9 & fident >= 0.94\").set_index(\"target\")[\"group\"].to_dict()"
   ]
  },
  {
   "cell_type": "markdown",
   "metadata": {},
   "source": [
    "# 3.3. Test dataset "
   ]
  },
  {
   "cell_type": "code",
   "execution_count": null,
   "metadata": {},
   "outputs": [],
   "source": [
    "# !conda run -n deepfri \\\n",
    "#     mmseqs easy-search --max-seqs 60000 -s 7.5 --threads 16 --format-mode 4 --format-output query,target,fident,alnlen,mismatch,gapopen,qcov,tcov,evalue,bits\\\n",
    "#     /nfs/cds-peta/exports/biol_micro_cds_gr_sunagawa/scratch/vbezshapkin/tm-vec/tmvec_data/proteinnet/casp12/testing.fa \\\n",
    "#     /nfs/cds-peta/exports/biol_micro_cds_gr_sunagawa/scratch/vbezshapkin/tm-vec/tmvec_data/flatiron/pairs_with_max_146M.fa \\\n",
    "#     test_vs_pairs.tsv \\\n",
    "#     tmp"
   ]
  },
  {
   "cell_type": "code",
   "execution_count": 43,
   "metadata": {},
   "outputs": [],
   "source": [
    "df = pd.read_csv(\"test_vs_pairs.tsv\", sep=\"\\t\")"
   ]
  },
  {
   "cell_type": "code",
   "execution_count": 44,
   "metadata": {},
   "outputs": [],
   "source": [
    "# order by e-value and select top hits\n",
    "df = df.sort_values(\"evalue\").groupby(\"target\").head(1)"
   ]
  },
  {
   "cell_type": "code",
   "execution_count": 50,
   "metadata": {},
   "outputs": [],
   "source": [
    "templates = df.query(\"qcov >= 0.9 and tcov >= 0.9 and fident >= 0.94\").target"
   ]
  },
  {
   "cell_type": "markdown",
   "metadata": {},
   "source": [
    "# 4. Annotating pairs"
   ]
  },
  {
   "cell_type": "code",
   "execution_count": 52,
   "metadata": {},
   "outputs": [],
   "source": [
    "largest_file = \"/nfs/cds-peta/exports/biol_micro_cds_gr_sunagawa/scratch/vbezshapkin/tm-vec/tmvec_data/flatiron/pairs_with_max_146M.csv.gz\"\n",
    "df = pd.read_csv(largest_file, compression='gzip', index_col=0)"
   ]
  },
  {
   "cell_type": "code",
   "execution_count": 53,
   "metadata": {},
   "outputs": [],
   "source": [
    "df.loc[(df.chain_1.isin(templates)) | (df.chain_2.isin(templates)), \"dataset\"] = \"test_template\"\n",
    "df.loc[(df.chain_1.isin(val_dict)) | (df.chain_2.isin(val_dict)), \"dataset\"] = \"val\""
   ]
  },
  {
   "cell_type": "code",
   "execution_count": 64,
   "metadata": {},
   "outputs": [
    {
     "name": "stderr",
     "output_type": "stream",
     "text": [
      "/tmp/ipykernel_1347995/3307925943.py:3: SettingWithCopyWarning: \n",
      "A value is trying to be set on a copy of a slice from a DataFrame.\n",
      "Try using .loc[row_indexer,col_indexer] = value instead\n",
      "\n",
      "See the caveats in the documentation: https://pandas.pydata.org/pandas-docs/stable/user_guide/indexing.html#returning-a-view-versus-a-copy\n",
      "  val_df[\"dataset\"] = val_df.apply(lambda x: max(val_dict.get(x.chain_1, 0), val_dict.get(x.chain_2, 0)), axis=1)\n",
      "/tmp/ipykernel_1347995/3307925943.py:5: SettingWithCopyWarning: \n",
      "A value is trying to be set on a copy of a slice from a DataFrame.\n",
      "Try using .loc[row_indexer,col_indexer] = value instead\n",
      "\n",
      "See the caveats in the documentation: https://pandas.pydata.org/pandas-docs/stable/user_guide/indexing.html#returning-a-view-versus-a-copy\n",
      "  val_df[\"dataset\"] = val_df[\"dataset\"].apply(lambda x: f\"val_{x}\")\n"
     ]
    }
   ],
   "source": [
    "# scan val pairs and assign highest value from the dict\n",
    "val_df = df.query(\"dataset == 'val'\")\n",
    "val_df[\"dataset\"] = val_df.apply(lambda x: max(val_dict.get(x.chain_1, 0), val_dict.get(x.chain_2, 0)), axis=1)\n",
    "# append \"val\" to values\n",
    "val_df[\"dataset\"] = val_df[\"dataset\"].apply(lambda x: f\"val_{x}\")\n",
    "# assign to original df\n",
    "df.loc[val_df.index, \"dataset\"] = val_df[\"dataset\"]"
   ]
  },
  {
   "cell_type": "code",
   "execution_count": 67,
   "metadata": {},
   "outputs": [],
   "source": [
    "df.loc[(df.chain_1.isin(train_seqs) | df.chain_2.isin(train_seqs)), \"dataset\"] = \"train\""
   ]
  },
  {
   "cell_type": "code",
   "execution_count": 72,
   "metadata": {},
   "outputs": [],
   "source": [
    "# write to parquet\n",
    "df.to_parquet(\"/nfs/cds-peta/exports/biol_micro_cds_gr_sunagawa/scratch/vbezshapkin/tm-vec/tmvec_data/flatiron/pairs_with_max_146M.proteinnet_split.parquet\")"
   ]
  },
  {
   "cell_type": "code",
   "execution_count": null,
   "metadata": {},
   "outputs": [],
   "source": []
  }
 ],
 "metadata": {
  "kernelspec": {
   "display_name": "tmvec",
   "language": "python",
   "name": "python3"
  },
  "language_info": {
   "codemirror_mode": {
    "name": "ipython",
    "version": 3
   },
   "file_extension": ".py",
   "mimetype": "text/x-python",
   "name": "python",
   "nbconvert_exporter": "python",
   "pygments_lexer": "ipython3",
   "version": "3.10.0"
  }
 },
 "nbformat": 4,
 "nbformat_minor": 2
}
